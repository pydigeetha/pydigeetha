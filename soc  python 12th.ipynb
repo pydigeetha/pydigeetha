{
 "cells": [
  {
   "cell_type": "code",
   "execution_count": 1,
   "id": "ff851a2e",
   "metadata": {},
   "outputs": [],
   "source": [
    "import numpy as np\n",
    "t1=(1,2,3)\n",
    "ar1=np.array(t1)"
   ]
  },
  {
   "cell_type": "code",
   "execution_count": 2,
   "id": "541bae49",
   "metadata": {},
   "outputs": [
    {
     "data": {
      "text/plain": [
       "array([1, 2, 3])"
      ]
     },
     "execution_count": 2,
     "metadata": {},
     "output_type": "execute_result"
    }
   ],
   "source": [
    "ar1"
   ]
  },
  {
   "cell_type": "code",
   "execution_count": 3,
   "id": "a5aaa66e",
   "metadata": {},
   "outputs": [
    {
     "data": {
      "text/plain": [
       "array({1, 2, 3}, dtype=object)"
      ]
     },
     "execution_count": 3,
     "metadata": {},
     "output_type": "execute_result"
    }
   ],
   "source": [
    "t1={1,2,3}\n",
    "ar1=np.array(t1)\n",
    "ar1"
   ]
  },
  {
   "cell_type": "code",
   "execution_count": 4,
   "id": "5532207a",
   "metadata": {},
   "outputs": [
    {
     "name": "stdout",
     "output_type": "stream",
     "text": [
      "geetha\n",
      "<__main__.c1 object at 0x000002965CD50C10>\n"
     ]
    }
   ],
   "source": [
    "class c1:\n",
    "    name = \"geetha\"\n",
    "    age = 18\n",
    "obj = c1()\n",
    "print(obj.name)\n",
    "print(obj)"
   ]
  },
  {
   "cell_type": "code",
   "execution_count": 5,
   "id": "e50f73da",
   "metadata": {},
   "outputs": [
    {
     "data": {
      "text/plain": [
       "dtype('<U5')"
      ]
     },
     "execution_count": 5,
     "metadata": {},
     "output_type": "execute_result"
    }
   ],
   "source": [
    "t1=\"hello\"\n",
    "ar1=np.array(t1)\n",
    "ar1.dtype"
   ]
  },
  {
   "cell_type": "code",
   "execution_count": 6,
   "id": "3ddd93d4",
   "metadata": {},
   "outputs": [
    {
     "data": {
      "text/plain": [
       "numpy.ndarray"
      ]
     },
     "execution_count": 6,
     "metadata": {},
     "output_type": "execute_result"
    }
   ],
   "source": [
    "type(ar1)"
   ]
  },
  {
   "cell_type": "code",
   "execution_count": 7,
   "id": "da5da6ce",
   "metadata": {},
   "outputs": [
    {
     "data": {
      "text/plain": [
       "array({'a': 100, 'b': 200}, dtype=object)"
      ]
     },
     "execution_count": 7,
     "metadata": {},
     "output_type": "execute_result"
    }
   ],
   "source": [
    "t1={\"a\":100, \"b\":200}\n",
    "ar1=np.array(t1)\n",
    "ar1"
   ]
  },
  {
   "cell_type": "code",
   "execution_count": 12,
   "id": "00f700b0",
   "metadata": {},
   "outputs": [
    {
     "data": {
      "text/plain": [
       "{'a': 100, 'b': 200}"
      ]
     },
     "execution_count": 12,
     "metadata": {},
     "output_type": "execute_result"
    }
   ],
   "source": [
    "ar1.tolist()"
   ]
  },
  {
   "cell_type": "code",
   "execution_count": 10,
   "id": "b1830990",
   "metadata": {},
   "outputs": [],
   "source": [
    "ar2 = [1,2,3,4,5]\n",
    "np_ar =np.array(ar2)"
   ]
  },
  {
   "cell_type": "code",
   "execution_count": 13,
   "id": "e69c3db4",
   "metadata": {},
   "outputs": [
    {
     "data": {
      "text/plain": [
       "array([1, 2, 3, 4, 5])"
      ]
     },
     "execution_count": 13,
     "metadata": {},
     "output_type": "execute_result"
    }
   ],
   "source": [
    "np_ar"
   ]
  },
  {
   "cell_type": "code",
   "execution_count": 14,
   "id": "e5a9d1c3",
   "metadata": {},
   "outputs": [
    {
     "data": {
      "text/plain": [
       "array([1, 2, 3, 4, 5, 2, 4, 6, 7])"
      ]
     },
     "execution_count": 14,
     "metadata": {},
     "output_type": "execute_result"
    }
   ],
   "source": [
    "#to add multiple values:\n",
    "new_ar = np.append(np_ar, [2,4,6,7])\n",
    "new_ar"
   ]
  },
  {
   "cell_type": "code",
   "execution_count": 16,
   "id": "06e9389d",
   "metadata": {},
   "outputs": [
    {
     "data": {
      "text/plain": [
       "array([  1,   2, 123,   3,   4,   5])"
      ]
     },
     "execution_count": 16,
     "metadata": {},
     "output_type": "execute_result"
    }
   ],
   "source": [
    "#to insert()\n",
    "#based on the index value to add the elemnt into array:\n",
    "new_ar = np.insert(np_ar,2,123 )\n",
    "new_ar"
   ]
  },
  {
   "cell_type": "code",
   "execution_count": 17,
   "id": "0a8c3d2c",
   "metadata": {},
   "outputs": [
    {
     "data": {
      "text/plain": [
       "array([  1,   2, 456, 333,  37,   3,   4,   5])"
      ]
     },
     "execution_count": 17,
     "metadata": {},
     "output_type": "execute_result"
    }
   ],
   "source": [
    "#to insert multiple values in the array\n",
    "#np.insert(array_to_be_modified,index_position,values in list or tuple)\n",
    "new_ar = np.insert(np_ar,2,(456,333,37))\n",
    "new_ar"
   ]
  },
  {
   "cell_type": "code",
   "execution_count": 18,
   "id": "2340b5a9",
   "metadata": {},
   "outputs": [
    {
     "data": {
      "text/plain": [
       "array([1, 2, 3, 4, 5])"
      ]
     },
     "execution_count": 18,
     "metadata": {},
     "output_type": "execute_result"
    }
   ],
   "source": [
    "#1 DELETE FROM AN ARRAY 1\n",
    "np_ar"
   ]
  },
  {
   "cell_type": "code",
   "execution_count": 19,
   "id": "c7681dfb",
   "metadata": {},
   "outputs": [],
   "source": [
    "nr = np.delete(np_ar,np.where(np_ar==3))\n"
   ]
  },
  {
   "cell_type": "code",
   "execution_count": 20,
   "id": "fd11baf0",
   "metadata": {},
   "outputs": [
    {
     "data": {
      "text/plain": [
       "array([1, 2, 4, 5])"
      ]
     },
     "execution_count": 20,
     "metadata": {},
     "output_type": "execute_result"
    }
   ],
   "source": [
    "nr"
   ]
  },
  {
   "cell_type": "code",
   "execution_count": 21,
   "id": "34467f48",
   "metadata": {},
   "outputs": [
    {
     "data": {
      "text/plain": [
       "array([5])"
      ]
     },
     "execution_count": 21,
     "metadata": {},
     "output_type": "execute_result"
    }
   ],
   "source": [
    "#to delete number of values in array:\n",
    "nr = np.setdiff1d(np_ar, [1.0,4,3,2])\n",
    "nr"
   ]
  },
  {
   "cell_type": "code",
   "execution_count": 22,
   "id": "536cc764",
   "metadata": {},
   "outputs": [],
   "source": [
    "#to delete based on index position:\n",
    "nr=np.delete(np_ar,3)"
   ]
  },
  {
   "cell_type": "code",
   "execution_count": 23,
   "id": "25aacd7e",
   "metadata": {},
   "outputs": [
    {
     "data": {
      "text/plain": [
       "array([1, 2, 3, 5])"
      ]
     },
     "execution_count": 23,
     "metadata": {},
     "output_type": "execute_result"
    }
   ],
   "source": [
    "nr"
   ]
  },
  {
   "cell_type": "code",
   "execution_count": 24,
   "id": "224e2aa5",
   "metadata": {},
   "outputs": [
    {
     "data": {
      "text/plain": [
       "array([ 1,  2,  3,  4,  5, 56, 78, 98])"
      ]
     },
     "execution_count": 24,
     "metadata": {},
     "output_type": "execute_result"
    }
   ],
   "source": [
    "l1 =[1,2,3,4,5,56,78,98]\n",
    "new_ar = np.array(l1)\n",
    "new_ar"
   ]
  },
  {
   "cell_type": "code",
   "execution_count": 25,
   "id": "6ec5c6ea",
   "metadata": {},
   "outputs": [
    {
     "data": {
      "text/plain": [
       "array([ True,  True,  True,  True,  True, False, False, False])"
      ]
     },
     "execution_count": 25,
     "metadata": {},
     "output_type": "execute_result"
    }
   ],
   "source": [
    "#Filter in numpy\n",
    "new_ar<30"
   ]
  },
  {
   "cell_type": "code",
   "execution_count": 26,
   "id": "587cc9a0",
   "metadata": {},
   "outputs": [
    {
     "data": {
      "text/plain": [
       "array([1, 2, 3, 4, 5])"
      ]
     },
     "execution_count": 26,
     "metadata": {},
     "output_type": "execute_result"
    }
   ],
   "source": [
    "new_ar[new_ar<30]"
   ]
  },
  {
   "cell_type": "code",
   "execution_count": 27,
   "id": "ef3d1774",
   "metadata": {},
   "outputs": [
    {
     "data": {
      "text/plain": [
       "array([ 1,  2,  3,  4,  5, 56, 78, 98])"
      ]
     },
     "execution_count": 27,
     "metadata": {},
     "output_type": "execute_result"
    }
   ],
   "source": [
    "new_ar"
   ]
  },
  {
   "cell_type": "code",
   "execution_count": 28,
   "id": "1cb204a6",
   "metadata": {},
   "outputs": [
    {
     "data": {
      "text/plain": [
       "array([False, False, False, False, False, False, False, False])"
      ]
     },
     "execution_count": 28,
     "metadata": {},
     "output_type": "execute_result"
    }
   ],
   "source": [
    "#print the values < 20 and values >50\n",
    "#-->for and operation using &\n",
    "#--> for or operation use\n",
    "(new_ar<20)&(new_ar>50)"
   ]
  },
  {
   "cell_type": "code",
   "execution_count": 29,
   "id": "396a36cc",
   "metadata": {},
   "outputs": [
    {
     "data": {
      "text/plain": [
       "array([2, 3, 4, 5])"
      ]
     },
     "execution_count": 29,
     "metadata": {},
     "output_type": "execute_result"
    }
   ],
   "source": [
    "new_ar[(new_ar>1)&(new_ar<50)]"
   ]
  },
  {
   "cell_type": "code",
   "execution_count": 30,
   "id": "39a2abef",
   "metadata": {},
   "outputs": [
    {
     "data": {
      "text/plain": [
       "array([False, False,  True, False, False, False, False, False])"
      ]
     },
     "execution_count": 30,
     "metadata": {},
     "output_type": "execute_result"
    }
   ],
   "source": [
    "new_ar==3"
   ]
  },
  {
   "cell_type": "code",
   "execution_count": 32,
   "id": "30a150d5",
   "metadata": {},
   "outputs": [
    {
     "data": {
      "text/plain": [
       "array([ 1,  2,  6,  4,  5, 56, 78, 98])"
      ]
     },
     "execution_count": 32,
     "metadata": {},
     "output_type": "execute_result"
    }
   ],
   "source": [
    "new_ar[new_ar==3]=6\n",
    "new_ar"
   ]
  },
  {
   "cell_type": "code",
   "execution_count": 33,
   "id": "41205f3d",
   "metadata": {},
   "outputs": [
    {
     "data": {
      "text/plain": [
       "array([0., 0., 0., 0., 0.])"
      ]
     },
     "execution_count": 33,
     "metadata": {},
     "output_type": "execute_result"
    }
   ],
   "source": [
    "#to create array full of zeroes\n",
    "np.zeros(5)"
   ]
  },
  {
   "cell_type": "code",
   "execution_count": 34,
   "id": "e036bfeb",
   "metadata": {},
   "outputs": [
    {
     "data": {
      "text/plain": [
       "array([[0., 0., 0., 0., 0.],\n",
       "       [0., 0., 0., 0., 0.],\n",
       "       [0., 0., 0., 0., 0.]])"
      ]
     },
     "execution_count": 34,
     "metadata": {},
     "output_type": "execute_result"
    }
   ],
   "source": [
    "#to create 2d array full of zeros\n",
    "#syntax -->np.zeros([num_of_rows,num_of_cols])\n",
    "np.zeros([3,5])"
   ]
  },
  {
   "cell_type": "code",
   "execution_count": 36,
   "id": "4e17f5a2",
   "metadata": {},
   "outputs": [
    {
     "data": {
      "text/plain": [
       "array([[1., 1., 1., 1., 1.]])"
      ]
     },
     "execution_count": 36,
     "metadata": {},
     "output_type": "execute_result"
    }
   ],
   "source": [
    "#to create array full of ones\n",
    "np.ones([1,5])"
   ]
  },
  {
   "cell_type": "code",
   "execution_count": 37,
   "id": "49c564d0",
   "metadata": {},
   "outputs": [
    {
     "data": {
      "text/plain": [
       "array([1., 1., 1., 1.])"
      ]
     },
     "execution_count": 37,
     "metadata": {},
     "output_type": "execute_result"
    }
   ],
   "source": [
    "#to create array full of ones\n",
    "np.ones(4)"
   ]
  },
  {
   "cell_type": "code",
   "execution_count": 38,
   "id": "e7d8fcc6",
   "metadata": {},
   "outputs": [
    {
     "data": {
      "text/plain": [
       "array([[1., 1., 1., 1.],\n",
       "       [1., 1., 1., 1.],\n",
       "       [1., 1., 1., 1.]])"
      ]
     },
     "execution_count": 38,
     "metadata": {},
     "output_type": "execute_result"
    }
   ],
   "source": [
    "np.ones([3,4])"
   ]
  },
  {
   "cell_type": "code",
   "execution_count": 39,
   "id": "cef3d10c",
   "metadata": {},
   "outputs": [],
   "source": [
    "ar=np.ones([3,7])+1"
   ]
  },
  {
   "cell_type": "code",
   "execution_count": 40,
   "id": "c0c6eadb",
   "metadata": {},
   "outputs": [
    {
     "data": {
      "text/plain": [
       "array([[2., 2., 2., 2., 2., 2., 2.],\n",
       "       [2., 2., 2., 2., 2., 2., 2.],\n",
       "       [2., 2., 2., 2., 2., 2., 2.]])"
      ]
     },
     "execution_count": 40,
     "metadata": {},
     "output_type": "execute_result"
    }
   ],
   "source": [
    "ar"
   ]
  },
  {
   "cell_type": "code",
   "execution_count": 41,
   "id": "14750544",
   "metadata": {},
   "outputs": [
    {
     "data": {
      "text/plain": [
       "dtype('float64')"
      ]
     },
     "execution_count": 41,
     "metadata": {},
     "output_type": "execute_result"
    }
   ],
   "source": [
    "#type convert the element in to the array\n",
    "# to find the numpy data type of element present in array-->dtype\n",
    "#type(ar)\n",
    "ar.dtype"
   ]
  },
  {
   "cell_type": "code",
   "execution_count": 42,
   "id": "bea8f4ec",
   "metadata": {},
   "outputs": [
    {
     "data": {
      "text/plain": [
       "array([[1, 1, 1, 1, 1, 1, 1],\n",
       "       [1, 1, 1, 1, 1, 1, 1],\n",
       "       [1, 1, 1, 1, 1, 1, 1]])"
      ]
     },
     "execution_count": 42,
     "metadata": {},
     "output_type": "execute_result"
    }
   ],
   "source": [
    "# to create one's with int dtype\n",
    "ar=np.ones([3,7],dtype=int)\n",
    "ar"
   ]
  },
  {
   "cell_type": "code",
   "execution_count": 43,
   "id": "d732e6e9",
   "metadata": {},
   "outputs": [
    {
     "data": {
      "text/plain": [
       "dtype('int32')"
      ]
     },
     "execution_count": 43,
     "metadata": {},
     "output_type": "execute_result"
    }
   ],
   "source": [
    "ar.dtype"
   ]
  },
  {
   "cell_type": "code",
   "execution_count": 44,
   "id": "2c1a1580",
   "metadata": {},
   "outputs": [
    {
     "data": {
      "text/plain": [
       "array([[0, 0, 0, 0],\n",
       "       [0, 0, 0, 0]], dtype=int16)"
      ]
     },
     "execution_count": 44,
     "metadata": {},
     "output_type": "execute_result"
    }
   ],
   "source": [
    "#we can convert the values into various bits\n",
    "#they are\n",
    "# int8,int16,int32,int64\n",
    "#float16,float32,float64\n",
    "#complex64,complex128\n",
    "#unit32,unit16\n",
    "ar=np.zeros([2,4],dtype='int16')\n",
    "ar"
   ]
  },
  {
   "cell_type": "code",
   "execution_count": 15,
   "id": "d67fafd5",
   "metadata": {},
   "outputs": [
    {
     "data": {
      "text/plain": [
       "array([[0., 0.],\n",
       "       [0., 0.]], dtype=float16)"
      ]
     },
     "execution_count": 15,
     "metadata": {},
     "output_type": "execute_result"
    }
   ],
   "source": [
    "ar=np.zeros([2,2],dtype='float16')\n",
    "ar"
   ]
  },
  {
   "cell_type": "code",
   "execution_count": 13,
   "id": "ae648fce",
   "metadata": {},
   "outputs": [],
   "source": [
    "import numpy as np"
   ]
  },
  {
   "cell_type": "code",
   "execution_count": 16,
   "id": "71c1bc29",
   "metadata": {},
   "outputs": [
    {
     "data": {
      "text/plain": [
       "array([[0.+0.j, 0.+0.j, 0.+0.j, 0.+0.j],\n",
       "       [0.+0.j, 0.+0.j, 0.+0.j, 0.+0.j]], dtype=complex64)"
      ]
     },
     "execution_count": 16,
     "metadata": {},
     "output_type": "execute_result"
    }
   ],
   "source": [
    "ar=np.zeros([2,4],dtype='complex64')\n",
    "ar"
   ]
  },
  {
   "cell_type": "code",
   "execution_count": 17,
   "id": "e2a6b76b",
   "metadata": {},
   "outputs": [
    {
     "data": {
      "text/plain": [
       "array([ 0,  1,  2,  3,  4,  5,  6,  7,  8,  9, 10, 11, 12, 13, 14, 15, 16,\n",
       "       17, 18, 19, 20, 21, 22, 23, 24, 25, 26, 27, 28, 29])"
      ]
     },
     "execution_count": 17,
     "metadata": {},
     "output_type": "execute_result"
    }
   ],
   "source": [
    "ar=np.arange(30)\n",
    "ar"
   ]
  },
  {
   "cell_type": "code",
   "execution_count": 10,
   "id": "ed73cfe6",
   "metadata": {},
   "outputs": [
    {
     "ename": "ModuleNotFoundError",
     "evalue": "No module named 'arange'",
     "output_type": "error",
     "traceback": [
      "\u001b[1;31m---------------------------------------------------------------------------\u001b[0m",
      "\u001b[1;31mModuleNotFoundError\u001b[0m                       Traceback (most recent call last)",
      "Cell \u001b[1;32mIn[10], line 1\u001b[0m\n\u001b[1;32m----> 1\u001b[0m \u001b[38;5;28;01mimport\u001b[39;00m \u001b[38;5;21;01marange\u001b[39;00m \u001b[38;5;28;01mas\u001b[39;00m \u001b[38;5;21;01mar\u001b[39;00m\n",
      "\u001b[1;31mModuleNotFoundError\u001b[0m: No module named 'arange'"
     ]
    }
   ],
   "source": [
    "import arange as ar"
   ]
  },
  {
   "cell_type": "code",
   "execution_count": 18,
   "id": "67a1a15a",
   "metadata": {},
   "outputs": [
    {
     "name": "stdout",
     "output_type": "stream",
     "text": [
      "3.0\n",
      "3.0\n",
      "15\n",
      "2.0\n",
      "1.4142135623730951\n"
     ]
    }
   ],
   "source": [
    "ar= np.array([1, 2, 3, 4, 5])\n",
    "mean = np.mean(ar)\n",
    "median = np.median(ar)\n",
    "sum = np.sum(ar)\n",
    "variance = np.var(ar)\n",
    "standard_deviation = np.std(ar)\n",
    "print(mean)\n",
    "print(median)\n",
    "print(sum)\n",
    "print(variance)\n",
    "print(standard_deviation)"
   ]
  },
  {
   "cell_type": "code",
   "execution_count": 19,
   "id": "19470b87",
   "metadata": {},
   "outputs": [],
   "source": [
    "ar=np.arange(30)"
   ]
  },
  {
   "cell_type": "code",
   "execution_count": 20,
   "id": "b8898ab6",
   "metadata": {},
   "outputs": [
    {
     "data": {
      "text/plain": [
       "array([ 0,  1,  2,  3,  4,  5,  6,  7,  8,  9, 10, 11, 12, 13, 14, 15, 16,\n",
       "       17, 18, 19, 20, 21, 22, 23, 24, 25, 26, 27, 28, 29])"
      ]
     },
     "execution_count": 20,
     "metadata": {},
     "output_type": "execute_result"
    }
   ],
   "source": [
    "ar"
   ]
  },
  {
   "cell_type": "code",
   "execution_count": 26,
   "id": "3e7cdcbd",
   "metadata": {},
   "outputs": [
    {
     "ename": "AttributeError",
     "evalue": "module 'array' has no attribute 'reshape'",
     "output_type": "error",
     "traceback": [
      "\u001b[1;31m---------------------------------------------------------------------------\u001b[0m",
      "\u001b[1;31mAttributeError\u001b[0m                            Traceback (most recent call last)",
      "Cell \u001b[1;32mIn[26], line 1\u001b[0m\n\u001b[1;32m----> 1\u001b[0m ar1 \u001b[38;5;241m=\u001b[39m ar\u001b[38;5;241m.\u001b[39mreshape(\u001b[38;5;241m5\u001b[39m, \u001b[38;5;241m5\u001b[39m)\n",
      "\u001b[1;31mAttributeError\u001b[0m: module 'array' has no attribute 'reshape'"
     ]
    }
   ],
   "source": [
    "ar1 = ar.reshape(5, 5)\n"
   ]
  },
  {
   "cell_type": "code",
   "execution_count": 27,
   "id": "c67928d4",
   "metadata": {},
   "outputs": [],
   "source": [
    "import array as ar"
   ]
  },
  {
   "cell_type": "code",
   "execution_count": 33,
   "id": "34c28eb5",
   "metadata": {},
   "outputs": [
    {
     "data": {
      "text/plain": [
       "array([[1., 0., 0.],\n",
       "       [0., 1., 0.],\n",
       "       [0., 0., 1.]])"
      ]
     },
     "execution_count": 33,
     "metadata": {},
     "output_type": "execute_result"
    }
   ],
   "source": [
    "ar=np.identity(3)\n",
    "ar"
   ]
  },
  {
   "cell_type": "raw",
   "id": "a6f1944b",
   "metadata": {},
   "source": []
  },
  {
   "cell_type": "code",
   "execution_count": 30,
   "id": "508149a9",
   "metadata": {},
   "outputs": [
    {
     "data": {
      "text/plain": [
       "array([], shape=(1, 2, 0), dtype=int32)"
      ]
     },
     "execution_count": 30,
     "metadata": {},
     "output_type": "execute_result"
    }
   ],
   "source": [
    "ar = np.array([[[1, 2, 3], [4, 5, 6]], [[7, 8, 9], [10, 11, 12]]])\n",
    "sa= ar[0:1, 0:2,1:1]\n",
    "sa"
   ]
  },
  {
   "cell_type": "code",
   "execution_count": 31,
   "id": "8e94e189",
   "metadata": {},
   "outputs": [],
   "source": [
    "ar = np.arange(25)"
   ]
  },
  {
   "cell_type": "code",
   "execution_count": 32,
   "id": "ae4c27c2",
   "metadata": {},
   "outputs": [
    {
     "data": {
      "text/plain": [
       "array([ 0,  1,  2,  3,  4,  5,  6,  7,  8,  9, 10, 11, 12, 13, 14, 15, 16,\n",
       "       17, 18, 19, 20, 21, 22, 23, 24])"
      ]
     },
     "execution_count": 32,
     "metadata": {},
     "output_type": "execute_result"
    }
   ],
   "source": [
    "ar"
   ]
  },
  {
   "cell_type": "code",
   "execution_count": 34,
   "id": "4d3f95e8",
   "metadata": {},
   "outputs": [
    {
     "data": {
      "text/plain": [
       "array([[1, 2, 3],\n",
       "       [4, 5, 6]])"
      ]
     },
     "execution_count": 34,
     "metadata": {},
     "output_type": "execute_result"
    }
   ],
   "source": [
    "ar=np.array([1,2,3,4,5,6])\n",
    "arr2=ar.reshape(2,3)\n",
    "arr2"
   ]
  },
  {
   "cell_type": "code",
   "execution_count": 35,
   "id": "e293f34b",
   "metadata": {},
   "outputs": [
    {
     "data": {
      "text/plain": [
       "array([ 1,  2,  3,  4,  5,  6,  7,  8,  9, 10, 11, 12, 13, 14, 15, 16, 17,\n",
       "       18, 19, 20, 21, 22, 23, 24, 25, 26, 27, 28, 29, 30, 31, 32, 33, 34,\n",
       "       35, 36])"
      ]
     },
     "execution_count": 35,
     "metadata": {},
     "output_type": "execute_result"
    }
   ],
   "source": [
    "#1.how to craete range of element as array\n",
    "#2.how to convert a 1d array to multidimensional array\n",
    "#3.how to create array of identity matrix\n",
    "#4.how to perform slicing in multidimensional array\n",
    "#5.how to find mean,median,sum,variance,standard deviation of an array\n",
    "ar=np.arange(1,37)\n",
    "ar"
   ]
  },
  {
   "cell_type": "code",
   "execution_count": 36,
   "id": "3e518398",
   "metadata": {},
   "outputs": [
    {
     "data": {
      "text/plain": [
       "array([ 1.+0.j,  2.+0.j,  3.+0.j,  4.+0.j,  5.+0.j,  6.+0.j,  7.+0.j,\n",
       "        8.+0.j,  9.+0.j, 10.+0.j, 11.+0.j, 12.+0.j, 13.+0.j, 14.+0.j,\n",
       "       15.+0.j, 16.+0.j, 17.+0.j, 18.+0.j, 19.+0.j, 20.+0.j, 21.+0.j,\n",
       "       22.+0.j, 23.+0.j, 24.+0.j, 25.+0.j, 26.+0.j, 27.+0.j, 28.+0.j,\n",
       "       29.+0.j, 30.+0.j, 31.+0.j, 32.+0.j, 33.+0.j, 34.+0.j, 35.+0.j,\n",
       "       36.+0.j], dtype=complex64)"
      ]
     },
     "execution_count": 36,
     "metadata": {},
     "output_type": "execute_result"
    }
   ],
   "source": [
    "np.complex64(ar)"
   ]
  },
  {
   "cell_type": "code",
   "execution_count": 37,
   "id": "1b6b06f0",
   "metadata": {},
   "outputs": [
    {
     "data": {
      "text/plain": [
       "array([ 1,  2,  3,  4,  5,  6,  7,  8,  9, 10, 11, 12, 13, 14, 15, 16, 17,\n",
       "       18, 19, 20, 21, 22, 23, 24, 25, 26, 27, 28, 29, 30, 31, 32, 33, 34,\n",
       "       35, 36], dtype=int16)"
      ]
     },
     "execution_count": 37,
     "metadata": {},
     "output_type": "execute_result"
    }
   ],
   "source": [
    "np.int16(ar)"
   ]
  },
  {
   "cell_type": "code",
   "execution_count": 38,
   "id": "1736f7c3",
   "metadata": {},
   "outputs": [
    {
     "data": {
      "text/plain": [
       "array([[0, 0, 0, 0],\n",
       "       [0, 0, 0, 0]], dtype=uint16)"
      ]
     },
     "execution_count": 38,
     "metadata": {},
     "output_type": "execute_result"
    }
   ],
   "source": [
    "ar=np.zeros([2,4],dtype='uint16')\n",
    "ar"
   ]
  },
  {
   "cell_type": "code",
   "execution_count": 39,
   "id": "fbff0fea",
   "metadata": {},
   "outputs": [
    {
     "data": {
      "text/plain": [
       "array([[0.+0.j, 0.+0.j, 0.+0.j, 0.+0.j],\n",
       "       [0.+0.j, 0.+0.j, 0.+0.j, 0.+0.j]], dtype=complex64)"
      ]
     },
     "execution_count": 39,
     "metadata": {},
     "output_type": "execute_result"
    }
   ],
   "source": [
    "ar=np.zeros([2,4],dtype='complex64')\n",
    "ar"
   ]
  },
  {
   "cell_type": "code",
   "execution_count": 40,
   "id": "69784370",
   "metadata": {},
   "outputs": [
    {
     "data": {
      "text/plain": [
       "array([[0, 0, 0, 0, 0, 0, 0, 0, 0],\n",
       "       [0, 0, 0, 0, 0, 0, 0, 0, 0],\n",
       "       [0, 0, 0, 0, 0, 0, 0, 0, 0],\n",
       "       [0, 0, 0, 0, 0, 0, 0, 0, 0],\n",
       "       [0, 0, 0, 0, 0, 0, 0, 0, 0],\n",
       "       [0, 0, 0, 0, 0, 0, 0, 0, 0],\n",
       "       [0, 0, 0, 0, 0, 0, 0, 0, 0],\n",
       "       [0, 0, 0, 0, 0, 0, 0, 0, 0],\n",
       "       [0, 0, 0, 0, 0, 0, 0, 0, 0]], dtype=int16)"
      ]
     },
     "execution_count": 40,
     "metadata": {},
     "output_type": "execute_result"
    }
   ],
   "source": [
    "ar=np.zeros([9,9],dtype='int16')\n",
    "ar"
   ]
  },
  {
   "cell_type": "code",
   "execution_count": 41,
   "id": "ebd698bf",
   "metadata": {},
   "outputs": [
    {
     "data": {
      "text/plain": [
       "array([[0., 0., 0., 0., 0., 0., 0., 0., 0.],\n",
       "       [0., 0., 0., 0., 0., 0., 0., 0., 0.],\n",
       "       [0., 0., 0., 0., 0., 0., 0., 0., 0.],\n",
       "       [0., 0., 0., 0., 0., 0., 0., 0., 0.],\n",
       "       [0., 0., 0., 0., 0., 0., 0., 0., 0.],\n",
       "       [0., 0., 0., 0., 0., 0., 0., 0., 0.],\n",
       "       [0., 0., 0., 0., 0., 0., 0., 0., 0.],\n",
       "       [0., 0., 0., 0., 0., 0., 0., 0., 0.],\n",
       "       [0., 0., 0., 0., 0., 0., 0., 0., 0.]], dtype=float16)"
      ]
     },
     "execution_count": 41,
     "metadata": {},
     "output_type": "execute_result"
    }
   ],
   "source": [
    "ar=np.zeros([9,9],dtype='float16')\n",
    "ar"
   ]
  },
  {
   "cell_type": "code",
   "execution_count": 42,
   "id": "ddbbdc11",
   "metadata": {},
   "outputs": [
    {
     "data": {
      "text/plain": [
       "array([[0., 0., 0., 0.],\n",
       "       [0., 0., 0., 0.]], dtype=float16)"
      ]
     },
     "execution_count": 42,
     "metadata": {},
     "output_type": "execute_result"
    }
   ],
   "source": [
    "ar=np.zeros([2,4],dtype='float16')\n",
    "ar"
   ]
  },
  {
   "cell_type": "code",
   "execution_count": 43,
   "id": "4a3f8e78",
   "metadata": {},
   "outputs": [
    {
     "data": {
      "text/plain": [
       "array([[1, 1, 1, 1, 1, 1, 1],\n",
       "       [1, 1, 1, 1, 1, 1, 1],\n",
       "       [1, 1, 1, 1, 1, 1, 1]])"
      ]
     },
     "execution_count": 43,
     "metadata": {},
     "output_type": "execute_result"
    }
   ],
   "source": [
    "# to create one's with int dtype\n",
    "ar=np.ones([3,7],dtype=int)\n",
    "ar"
   ]
  },
  {
   "cell_type": "code",
   "execution_count": 44,
   "id": "fbccb4b5",
   "metadata": {},
   "outputs": [
    {
     "data": {
      "text/plain": [
       "dtype('int32')"
      ]
     },
     "execution_count": 44,
     "metadata": {},
     "output_type": "execute_result"
    }
   ],
   "source": [
    "#type convert the element in to the array\n",
    "# to find the numpy data type of element present in array-->dtype\n",
    "#type(ar)\n",
    "ar.dtype"
   ]
  },
  {
   "cell_type": "code",
   "execution_count": 45,
   "id": "d746f651",
   "metadata": {},
   "outputs": [
    {
     "data": {
      "text/plain": [
       "dtype('int32')"
      ]
     },
     "execution_count": 45,
     "metadata": {},
     "output_type": "execute_result"
    }
   ],
   "source": [
    "#type convert the element in to the array\n",
    "# to find the numpy data type of element present in array-->dtype\n",
    "#type(ar)\n",
    "ar.dtype"
   ]
  },
  {
   "cell_type": "code",
   "execution_count": null,
   "id": "003c44e1",
   "metadata": {},
   "outputs": [],
   "source": []
  }
 ],
 "metadata": {
  "kernelspec": {
   "display_name": "Python 3 (ipykernel)",
   "language": "python",
   "name": "python3"
  },
  "language_info": {
   "codemirror_mode": {
    "name": "ipython",
    "version": 3
   },
   "file_extension": ".py",
   "mimetype": "text/x-python",
   "name": "python",
   "nbconvert_exporter": "python",
   "pygments_lexer": "ipython3",
   "version": "3.11.5"
  }
 },
 "nbformat": 4,
 "nbformat_minor": 5
}
